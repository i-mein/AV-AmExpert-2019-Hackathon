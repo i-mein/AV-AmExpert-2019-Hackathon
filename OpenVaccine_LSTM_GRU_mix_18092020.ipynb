{
  "nbformat": 4,
  "nbformat_minor": 0,
  "metadata": {
    "kernelspec": {
      "language": "python",
      "display_name": "Python 3",
      "name": "python3"
    },
    "language_info": {
      "pygments_lexer": "ipython3",
      "nbconvert_exporter": "python",
      "version": "3.6.4",
      "file_extension": ".py",
      "codemirror_mode": {
        "name": "ipython",
        "version": 3
      },
      "name": "python",
      "mimetype": "text/x-python"
    },
    "colab": {
      "name": "OpenVaccine: LSTM-GRU-mix 18092020.ipynb",
      "provenance": [],
      "collapsed_sections": [],
      "toc_visible": true,
      "include_colab_link": true
    },
    "accelerator": "GPU"
  },
  "cells": [
    {
      "cell_type": "markdown",
      "metadata": {
        "id": "view-in-github",
        "colab_type": "text"
      },
      "source": [
        "<a href=\"https://colab.research.google.com/github/i-mein/AV-AmExpert-2019-Hackathon/blob/master/OpenVaccine_LSTM_GRU_mix_18092020.ipynb\" target=\"_parent\"><img src=\"https://colab.research.google.com/assets/colab-badge.svg\" alt=\"Open In Colab\"/></a>"
      ]
    },
    {
      "cell_type": "markdown",
      "metadata": {
        "id": "5HVte8AWClhF",
        "colab_type": "text"
      },
      "source": [
        "# Stanford mRNA Degradation Predictor\n",
        "\n",
        "\n",
        "<H3> Solving the task challenge of mRNA Vaccine Degradation Predictor the RNA Base Pairs </H3>  \n",
        "\n",
        "Special thanks to Tucker Arrants. The set of codes were collected from his notebook mentioned below.  \n",
        "https://www.kaggle.com/tuckerarrants/openvaccine-gru-lstm\n",
        "\n"
      ]
    },
    {
      "cell_type": "markdown",
      "metadata": {
        "id": "r6lIgTMYClhF",
        "colab_type": "text"
      },
      "source": [
        "<h3> Importing the Libraries </h3>"
      ]
    },
    {
      "cell_type": "code",
      "metadata": {
        "id": "M6Qz8lCODFAv",
        "colab_type": "code",
        "colab": {
          "base_uri": "https://localhost:8080/",
          "height": 190
        },
        "outputId": "c7ca89f3-8b5f-4339-928a-bffae52241de"
      },
      "source": [
        "!pip install -q kaggle\n",
        "!pip install tensorflow_addons==0.10.0"
      ],
      "execution_count": 1,
      "outputs": [
        {
          "output_type": "stream",
          "text": [
            "Collecting tensorflow_addons==0.10.0\n",
            "\u001b[?25l  Downloading https://files.pythonhosted.org/packages/0e/ce/ed8472bf2b93b53702f28d91caee52181f7a10bee6eec0617a71dea12fa6/tensorflow_addons-0.10.0-cp36-cp36m-manylinux2010_x86_64.whl (1.0MB)\n",
            "\u001b[K     |████████████████████████████████| 1.1MB 2.7MB/s \n",
            "\u001b[?25hRequirement already satisfied: typeguard>=2.7 in /usr/local/lib/python3.6/dist-packages (from tensorflow_addons==0.10.0) (2.7.1)\n",
            "Installing collected packages: tensorflow-addons\n",
            "  Found existing installation: tensorflow-addons 0.8.3\n",
            "    Uninstalling tensorflow-addons-0.8.3:\n",
            "      Successfully uninstalled tensorflow-addons-0.8.3\n",
            "Successfully installed tensorflow-addons-0.10.0\n"
          ],
          "name": "stdout"
        }
      ]
    },
    {
      "cell_type": "code",
      "metadata": {
        "id": "KsVROY81DKmu",
        "colab_type": "code",
        "colab": {
          "resources": {
            "http://localhost:8080/nbextensions/google.colab/files.js": {
              "data": "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",
              "ok": true,
              "headers": [
                [
                  "content-type",
                  "application/javascript"
                ]
              ],
              "status": 200,
              "status_text": ""
            }
          },
          "base_uri": "https://localhost:8080/",
          "height": 89
        },
        "outputId": "f3ccae55-3a74-4c3d-fb3e-8aa84a862752"
      },
      "source": [
        "from google.colab import files\n",
        "files.upload()"
      ],
      "execution_count": 2,
      "outputs": [
        {
          "output_type": "display_data",
          "data": {
            "text/html": [
              "\n",
              "     <input type=\"file\" id=\"files-042a96e2-1147-496f-b15a-8b33404432ee\" name=\"files[]\" multiple disabled\n",
              "        style=\"border:none\" />\n",
              "     <output id=\"result-042a96e2-1147-496f-b15a-8b33404432ee\">\n",
              "      Upload widget is only available when the cell has been executed in the\n",
              "      current browser session. Please rerun this cell to enable.\n",
              "      </output>\n",
              "      <script src=\"/nbextensions/google.colab/files.js\"></script> "
            ],
            "text/plain": [
              "<IPython.core.display.HTML object>"
            ]
          },
          "metadata": {
            "tags": []
          }
        },
        {
          "output_type": "stream",
          "text": [
            "Saving kaggle.json to kaggle.json\n"
          ],
          "name": "stdout"
        },
        {
          "output_type": "execute_result",
          "data": {
            "text/plain": [
              "{'kaggle.json': b'{\"username\":\"imeintanis\",\"key\":\"bca11de3b28899cbe039c95d21bcd94b\"}'}"
            ]
          },
          "metadata": {
            "tags": []
          },
          "execution_count": 2
        }
      ]
    },
    {
      "cell_type": "code",
      "metadata": {
        "id": "vHdnmJP5DNZj",
        "colab_type": "code",
        "colab": {
          "base_uri": "https://localhost:8080/",
          "height": 1000
        },
        "outputId": "0ced76c2-7c9d-4788-9479-a15a35248efa"
      },
      "source": [
        "! mkdir ~/.kaggle\n",
        "! cp kaggle.json ~/.kaggle/\n",
        "! chmod 600 ~/.kaggle/kaggle.json\n",
        "! kaggle competitions download -c 'stanford-covid-vaccine'"
      ],
      "execution_count": 3,
      "outputs": [
        {
          "output_type": "stream",
          "text": [
            "Warning: Looks like you're using an outdated API Version, please consider updating (server 1.5.6 / client 1.5.4)\n",
            "Downloading id_00131c573.npy to /content\n",
            "  0% 0.00/89.6k [00:00<?, ?B/s]\n",
            "100% 89.6k/89.6k [00:00<00:00, 32.7MB/s]\n",
            "Downloading id_001f94081.npy to /content\n",
            "  0% 0.00/89.6k [00:00<?, ?B/s]\n",
            "100% 89.6k/89.6k [00:00<00:00, 92.5MB/s]\n",
            "Downloading id_00181fd34.npy to /content\n",
            "  0% 0.00/89.6k [00:00<?, ?B/s]\n",
            "100% 89.6k/89.6k [00:00<00:00, 82.8MB/s]\n",
            "Downloading id_0020473f7.npy to /content\n",
            "  0% 0.00/132k [00:00<?, ?B/s]\n",
            "100% 132k/132k [00:00<00:00, 43.2MB/s]\n",
            "Downloading id_006f36f57.npy to /content\n",
            "  0% 0.00/89.6k [00:00<?, ?B/s]\n",
            "100% 89.6k/89.6k [00:00<00:00, 97.5MB/s]\n",
            "Downloading id_0049f53ba.npy to /content\n",
            "  0% 0.00/89.6k [00:00<?, ?B/s]\n",
            "100% 89.6k/89.6k [00:00<00:00, 78.7MB/s]\n",
            "Downloading id_008d87c43.npy to /content\n",
            "  0% 0.00/132k [00:00<?, ?B/s]\n",
            "100% 132k/132k [00:00<00:00, 41.9MB/s]\n",
            "Downloading id_006a0ab6e.npy to /content\n",
            "  0% 0.00/132k [00:00<?, ?B/s]\n",
            "100% 132k/132k [00:00<00:00, 43.8MB/s]\n",
            "Downloading id_002852873.npy to /content\n",
            "  0% 0.00/132k [00:00<?, ?B/s]\n",
            "100% 132k/132k [00:00<00:00, 120MB/s]\n",
            "Downloading id_006af2226.npy to /content\n",
            "  0% 0.00/132k [00:00<?, ?B/s]\n",
            "100% 132k/132k [00:00<00:00, 121MB/s]\n",
            "Downloading id_003ab2445.npy to /content\n",
            "  0% 0.00/132k [00:00<?, ?B/s]\n",
            "100% 132k/132k [00:00<00:00, 121MB/s]\n",
            "Downloading id_0051b1d76.npy to /content\n",
            "  0% 0.00/132k [00:00<?, ?B/s]\n",
            "100% 132k/132k [00:00<00:00, 113MB/s]\n",
            "Downloading id_000ae4237.npy to /content\n",
            "  0% 0.00/132k [00:00<?, ?B/s]\n",
            "100% 132k/132k [00:00<00:00, 132MB/s]\n",
            "Downloading id_00583aef6.npy to /content\n",
            "  0% 0.00/132k [00:00<?, ?B/s]\n",
            "100% 132k/132k [00:00<00:00, 121MB/s]\n",
            "Downloading id_0082d463b.npy to /content\n",
            "  0% 0.00/89.6k [00:00<?, ?B/s]\n",
            "100% 89.6k/89.6k [00:00<00:00, 82.0MB/s]\n",
            "Downloading id_00073f8be.npy to /content\n",
            "  0% 0.00/89.6k [00:00<?, ?B/s]\n",
            "100% 89.6k/89.6k [00:00<00:00, 91.4MB/s]\n",
            "Downloading id_0087940f4.npy to /content\n",
            "  0% 0.00/89.6k [00:00<?, ?B/s]\n",
            "100% 89.6k/89.6k [00:00<00:00, 81.4MB/s]\n",
            "Downloading id_0088b606f.npy to /content\n",
            "  0% 0.00/132k [00:00<?, ?B/s]\n",
            "100% 132k/132k [00:00<00:00, 43.8MB/s]\n",
            "Downloading id_0031191b7.npy to /content\n",
            "  0% 0.00/132k [00:00<?, ?B/s]\n",
            "100% 132k/132k [00:00<00:00, 118MB/s]\n",
            "Downloading id_00710bcba.npy to /content\n",
            "  0% 0.00/132k [00:00<?, ?B/s]\n",
            "100% 132k/132k [00:00<00:00, 139MB/s]\n",
            "Downloading sample_submission.csv.zip to /content\n",
            "  0% 0.00/1.00M [00:00<?, ?B/s]\n",
            "100% 1.00M/1.00M [00:00<00:00, 66.9MB/s]\n",
            "Downloading train.json.zip to /content\n",
            "  0% 0.00/3.80M [00:00<?, ?B/s]\n",
            "100% 3.80M/3.80M [00:00<00:00, 125MB/s]\n",
            "Downloading test.json.zip to /content\n",
            "  0% 0.00/286k [00:00<?, ?B/s]\n",
            "100% 286k/286k [00:00<00:00, 92.4MB/s]\n"
          ],
          "name": "stdout"
        }
      ]
    },
    {
      "cell_type": "code",
      "metadata": {
        "trusted": true,
        "id": "j62_mSmDClhG",
        "colab_type": "code",
        "colab": {
          "base_uri": "https://localhost:8080/",
          "height": 207
        },
        "outputId": "d273e013-cb2b-44cb-882a-182439831671"
      },
      "source": [
        "# \n",
        "import pandas as pd, numpy as np\n",
        "import math, json, gc, random, os, sys\n",
        "from matplotlib import pyplot as plt\n",
        "import seaborn as sns\n",
        "from tqdm import tqdm\n",
        "\n",
        "# Deep Learning Libraries\n",
        "import tensorflow as tf\n",
        "import tensorflow.keras.backend as K\n",
        "from tensorflow.keras.layers import *\n",
        "from tensorflow.keras.callbacks import *\n",
        "import tensorflow_addons as tfa\n",
        "\n",
        "import warnings\n",
        "warnings.filterwarnings('ignore')\n",
        "# Library for model evaluation\n",
        "from sklearn.model_selection import train_test_split, KFold, StratifiedKFold, RepeatedStratifiedKFold"
      ],
      "execution_count": 4,
      "outputs": [
        {
          "output_type": "stream",
          "text": [
            "/usr/local/lib/python3.6/dist-packages/statsmodels/tools/_testing.py:19: FutureWarning: pandas.util.testing is deprecated. Use the functions in the public API at pandas.testing instead.\n",
            "  import pandas.util.testing as tm\n",
            "/usr/local/lib/python3.6/dist-packages/tensorflow_addons/utils/ensure_tf_install.py:68: UserWarning: Tensorflow Addons supports using Python ops for all Tensorflow versions above or equal to 2.2.0 and strictly below 2.3.0 (nightly versions are not supported). \n",
            " The versions of TensorFlow you are currently using is 2.3.0 and is not supported. \n",
            "Some things might work, some things might not.\n",
            "If you were to encounter a bug, do not file an issue.\n",
            "If you want to make sure you're using a tested and supported configuration, either change the TensorFlow version or the TensorFlow Addons's version. \n",
            "You can find the compatibility matrix in TensorFlow Addon's readme:\n",
            "https://github.com/tensorflow/addons\n",
            "  UserWarning,\n"
          ],
          "name": "stderr"
        }
      ]
    },
    {
      "cell_type": "code",
      "metadata": {
        "trusted": true,
        "id": "XvCR2BbvClhJ",
        "colab_type": "code",
        "colab": {}
      },
      "source": [
        "\n",
        "def seed_everything(seed):\n",
        "    random.seed(seed)\n",
        "    np.random.seed(seed)\n",
        "    os.environ['PYTHONHASHSEED'] = str(seed)\n",
        "    tf.random.set_seed(seed)\n",
        "    \n",
        "    \n",
        "SEED = 731    \n",
        "seed_everything(SEED)"
      ],
      "execution_count": 5,
      "outputs": []
    },
    {
      "cell_type": "code",
      "metadata": {
        "id": "gKTzlUnWXzoi",
        "colab_type": "code",
        "colab": {}
      },
      "source": [
        "def rmse(y_true, y_pred):\n",
        "    return np.sqrt(np.mean((y_true-y_pred)**2))\n",
        "\n",
        "def cwrmse_metric(y_true, y_pred):\n",
        "\n",
        "    e0 = rmse(y_true[:,0], y_pred[:,0])\n",
        "    e1 = rmse(y_true[:,1], y_pred[:,1])\n",
        "    e2 = rmse(y_true[:,3], y_pred[:,3])\n",
        "\n",
        "    return np.mean([e0, e1, e2])"
      ],
      "execution_count": 63,
      "outputs": []
    },
    {
      "cell_type": "code",
      "metadata": {
        "trusted": true,
        "id": "FMkMFEnpClhL",
        "colab_type": "code",
        "colab": {}
      },
      "source": [
        "def post_process(public_preds, private_preds):\n",
        "    \n",
        "    preds_ls = []\n",
        "    for df, preds in [(public_df, public_preds), (private_df, private_preds)]:\n",
        "        for i, uid in enumerate(df.id):\n",
        "            single_pred = preds[i]\n",
        "\n",
        "            single_df = pd.DataFrame(single_pred, columns=target_cols)\n",
        "            single_df['id_seqpos'] = [f'{uid}_{x}' for x in range(single_df.shape[0])]\n",
        "\n",
        "            preds_ls.append(single_df)\n",
        "\n",
        "    preds_df = pd.concat(preds_ls)\n",
        "    return preds_df\n",
        "\n",
        "token2int = {x:i for i, x in enumerate('().ACGUBEHIMSX')}\n",
        "\n",
        "def preprocess_inputs(df, cols=['sequence', 'structure', 'predicted_loop_type']):\n",
        "    return np.transpose(np.array(df[cols].applymap(lambda seq: [token2int[x] for x in seq]).values.tolist()),(0, 2, 1))"
      ],
      "execution_count": 6,
      "outputs": []
    },
    {
      "cell_type": "code",
      "metadata": {
        "trusted": true,
        "id": "RL3HOBK-ClhN",
        "colab_type": "code",
        "colab": {}
      },
      "source": [
        "COLAB = True\n",
        "\n",
        "FOLDS = 6\n",
        "epoch = 200\n",
        "VERBOSE = 0\n",
        "\n",
        "FILTER_SNR = True"
      ],
      "execution_count": 7,
      "outputs": []
    },
    {
      "cell_type": "markdown",
      "metadata": {
        "id": "rlqCmoqGClhP",
        "colab_type": "text"
      },
      "source": [
        "<h3> Getting the data with some basic EDA </h3>"
      ]
    },
    {
      "cell_type": "code",
      "metadata": {
        "trusted": true,
        "id": "bb0xAnjUClhQ",
        "colab_type": "code",
        "colab": {}
      },
      "source": [
        "PATH = './' if COLAB else '/kaggle/input/stanford-covid-vaccine/'\n",
        "\n",
        "train = pd.read_json(PATH+'train.json.zip', lines=True)\n",
        "test = pd.read_json(PATH+'test.json.zip', lines=True)\n",
        "sample_df = pd.read_csv(PATH+'sample_submission.csv.zip')\n",
        "\n",
        "target_cols = ['reactivity', 'deg_Mg_pH10', 'deg_pH10', 'deg_Mg_50C', 'deg_50C']"
      ],
      "execution_count": 8,
      "outputs": []
    },
    {
      "cell_type": "code",
      "metadata": {
        "trusted": true,
        "id": "7LMd28h1ClhR",
        "colab_type": "code",
        "colab": {}
      },
      "source": [
        "if FILTER_SNR:\n",
        "    train = train[train.signal_to_noise > 1]\n",
        "\n",
        "train_inputs = preprocess_inputs(train)\n",
        "train_labels = np.array(train[target_cols].values.tolist()).transpose((0, 2, 1))"
      ],
      "execution_count": 9,
      "outputs": []
    },
    {
      "cell_type": "code",
      "metadata": {
        "trusted": true,
        "id": "xM0pgaRMClhT",
        "colab_type": "code",
        "colab": {
          "base_uri": "https://localhost:8080/",
          "height": 428
        },
        "outputId": "bec73cc4-664a-4ed0-855d-afeedceb60a1"
      },
      "source": [
        "train.head()"
      ],
      "execution_count": 10,
      "outputs": [
        {
          "output_type": "execute_result",
          "data": {
            "text/html": [
              "<div>\n",
              "<style scoped>\n",
              "    .dataframe tbody tr th:only-of-type {\n",
              "        vertical-align: middle;\n",
              "    }\n",
              "\n",
              "    .dataframe tbody tr th {\n",
              "        vertical-align: top;\n",
              "    }\n",
              "\n",
              "    .dataframe thead th {\n",
              "        text-align: right;\n",
              "    }\n",
              "</style>\n",
              "<table border=\"1\" class=\"dataframe\">\n",
              "  <thead>\n",
              "    <tr style=\"text-align: right;\">\n",
              "      <th></th>\n",
              "      <th>index</th>\n",
              "      <th>id</th>\n",
              "      <th>sequence</th>\n",
              "      <th>structure</th>\n",
              "      <th>predicted_loop_type</th>\n",
              "      <th>signal_to_noise</th>\n",
              "      <th>SN_filter</th>\n",
              "      <th>seq_length</th>\n",
              "      <th>seq_scored</th>\n",
              "      <th>reactivity_error</th>\n",
              "      <th>deg_error_Mg_pH10</th>\n",
              "      <th>deg_error_pH10</th>\n",
              "      <th>deg_error_Mg_50C</th>\n",
              "      <th>deg_error_50C</th>\n",
              "      <th>reactivity</th>\n",
              "      <th>deg_Mg_pH10</th>\n",
              "      <th>deg_pH10</th>\n",
              "      <th>deg_Mg_50C</th>\n",
              "      <th>deg_50C</th>\n",
              "    </tr>\n",
              "  </thead>\n",
              "  <tbody>\n",
              "    <tr>\n",
              "      <th>0</th>\n",
              "      <td>0</td>\n",
              "      <td>id_001f94081</td>\n",
              "      <td>GGAAAAGCUCUAAUAACAGGAGACUAGGACUACGUAUUUCUAGGUA...</td>\n",
              "      <td>.....((((((.......)))).)).((.....((..((((((......</td>\n",
              "      <td>EEEEESSSSSSHHHHHHHSSSSBSSXSSIIIIISSIISSSSSSHHH...</td>\n",
              "      <td>6.894</td>\n",
              "      <td>1</td>\n",
              "      <td>107</td>\n",
              "      <td>68</td>\n",
              "      <td>[0.1359, 0.20700000000000002, 0.1633, 0.1452, ...</td>\n",
              "      <td>[0.26130000000000003, 0.38420000000000004, 0.1...</td>\n",
              "      <td>[0.2631, 0.28600000000000003, 0.0964, 0.1574, ...</td>\n",
              "      <td>[0.1501, 0.275, 0.0947, 0.18660000000000002, 0...</td>\n",
              "      <td>[0.2167, 0.34750000000000003, 0.188, 0.2124, 0...</td>\n",
              "      <td>[0.3297, 1.5693000000000001, 1.1227, 0.8686, 0...</td>\n",
              "      <td>[0.7556, 2.983, 0.2526, 1.3789, 0.637600000000...</td>\n",
              "      <td>[2.3375, 3.5060000000000002, 0.3008, 1.0108, 0...</td>\n",
              "      <td>[0.35810000000000003, 2.9683, 0.2589, 1.4552, ...</td>\n",
              "      <td>[0.6382, 3.4773, 0.9988, 1.3228, 0.78770000000...</td>\n",
              "    </tr>\n",
              "    <tr>\n",
              "      <th>2</th>\n",
              "      <td>2</td>\n",
              "      <td>id_006f36f57</td>\n",
              "      <td>GGAAAGUGCUCAGAUAAGCUAAGCUCGAAUAGCAAUCGAAUAGAAU...</td>\n",
              "      <td>.....((((.((.....((((.(((.....)))..((((......)...</td>\n",
              "      <td>EEEEESSSSISSIIIIISSSSMSSSHHHHHSSSMMSSSSHHHHHHS...</td>\n",
              "      <td>8.800</td>\n",
              "      <td>1</td>\n",
              "      <td>107</td>\n",
              "      <td>68</td>\n",
              "      <td>[0.0931, 0.13290000000000002, 0.11280000000000...</td>\n",
              "      <td>[0.1365, 0.2237, 0.1812, 0.1333, 0.1148, 0.160...</td>\n",
              "      <td>[0.17020000000000002, 0.178, 0.111, 0.091, 0.0...</td>\n",
              "      <td>[0.1033, 0.1464, 0.1126, 0.09620000000000001, ...</td>\n",
              "      <td>[0.14980000000000002, 0.1761, 0.1517, 0.116700...</td>\n",
              "      <td>[0.44820000000000004, 1.4822, 1.1819, 0.743400...</td>\n",
              "      <td>[0.2504, 1.4021, 0.9804, 0.49670000000000003, ...</td>\n",
              "      <td>[2.243, 2.9361, 1.0553, 0.721, 0.6396000000000...</td>\n",
              "      <td>[0.5163, 1.6823000000000001, 1.0426, 0.7902, 0...</td>\n",
              "      <td>[0.9501000000000001, 1.7974999999999999, 1.499...</td>\n",
              "    </tr>\n",
              "    <tr>\n",
              "      <th>5</th>\n",
              "      <td>5</td>\n",
              "      <td>id_00ab2d761</td>\n",
              "      <td>GGAAAGCGCCGCGGCGGUAGCGGCAGCGAGGAGCGCUACCAAGGCA...</td>\n",
              "      <td>.....(.(((((.(((((((((...........)))))))..(((....</td>\n",
              "      <td>EEEEESISSSSSISSSSSSSSSHHHHHHHHHHHSSSSSSSMMSSSH...</td>\n",
              "      <td>4.136</td>\n",
              "      <td>1</td>\n",
              "      <td>107</td>\n",
              "      <td>68</td>\n",
              "      <td>[0.1942, 0.2041, 0.1626, 0.1213, 0.10590000000...</td>\n",
              "      <td>[0.2726, 0.2984, 0.21660000000000001, 0.1637, ...</td>\n",
              "      <td>[0.3393, 0.2728, 0.2005, 0.1703, 0.1495, 0.134...</td>\n",
              "      <td>[0.165, 0.20520000000000002, 0.179, 0.1333, 0....</td>\n",
              "      <td>[0.2864, 0.24710000000000001, 0.2222, 0.1903, ...</td>\n",
              "      <td>[0.7642, 1.6641, 1.0622, 0.5008, 0.4107, 0.133...</td>\n",
              "      <td>[0.9559000000000001, 1.9442, 1.0114, 0.5105000...</td>\n",
              "      <td>[1.9554, 2.1298, 1.0403, 0.609, 0.5486, 0.386,...</td>\n",
              "      <td>[0.22460000000000002, 1.7281, 1.381, 0.6623, 0...</td>\n",
              "      <td>[0.5882000000000001, 1.1786, 0.9704, 0.6035, 0...</td>\n",
              "    </tr>\n",
              "    <tr>\n",
              "      <th>6</th>\n",
              "      <td>6</td>\n",
              "      <td>id_00abef1d7</td>\n",
              "      <td>GGAAAACAAUUGCAUCGUUAGUACGACUCCACAGCGUAAGCUGUGG...</td>\n",
              "      <td>.........((((((((......((((((((((((....)))))))...</td>\n",
              "      <td>EEEEEEEEESSSSSSSSIIIIIISSSSSSSSSSSSHHHHSSSSSSS...</td>\n",
              "      <td>2.485</td>\n",
              "      <td>1</td>\n",
              "      <td>107</td>\n",
              "      <td>68</td>\n",
              "      <td>[0.422, 0.5478000000000001, 0.4749000000000000...</td>\n",
              "      <td>[0.4801, 0.7943, 0.42160000000000003, 0.397300...</td>\n",
              "      <td>[0.9822000000000001, 1.272, 0.6940000000000001...</td>\n",
              "      <td>[0.5827, 0.7555000000000001, 0.5949, 0.4511, 0...</td>\n",
              "      <td>[0.9306000000000001, 1.0496, 0.5844, 0.7796000...</td>\n",
              "      <td>[0.895, 2.3377, 2.2305, 2.003, 1.9006, 1.0373,...</td>\n",
              "      <td>[0.46040000000000003, 3.6695, 0.78550000000000...</td>\n",
              "      <td>[2.7711, 7.365, 1.6924000000000001, 1.43840000...</td>\n",
              "      <td>[1.073, 2.8604000000000003, 1.9936, 1.0273, 1....</td>\n",
              "      <td>[2.0964, 3.3688000000000002, 0.6399, 2.1053, 1...</td>\n",
              "    </tr>\n",
              "    <tr>\n",
              "      <th>7</th>\n",
              "      <td>7</td>\n",
              "      <td>id_00b436dec</td>\n",
              "      <td>GGAAAUCAUCGAGGACGGGUCCGUUCAGCACGCGAAAGCGUCGUGA...</td>\n",
              "      <td>.....(((((((((((..(((((((((..((((....))))..)))...</td>\n",
              "      <td>EEEEESSSSSSSSSSSIISSSSSSSSSIISSSSHHHHSSSSIISSS...</td>\n",
              "      <td>1.727</td>\n",
              "      <td>1</td>\n",
              "      <td>107</td>\n",
              "      <td>68</td>\n",
              "      <td>[0.4843, 0.5233, 0.4554, 0.43520000000000003, ...</td>\n",
              "      <td>[0.8719, 1.0307, 0.6649, 0.34500000000000003, ...</td>\n",
              "      <td>[0.7045, 0.7775000000000001, 0.5662, 0.4561, 0...</td>\n",
              "      <td>[0.384, 0.723, 0.4766, 0.30260000000000004, 0....</td>\n",
              "      <td>[0.7429, 0.9137000000000001, 0.480400000000000...</td>\n",
              "      <td>[1.1576, 1.5137, 1.3382, 1.5622, 1.2121, 0.295...</td>\n",
              "      <td>[1.6912, 5.2652, 2.3901, 0.45890000000000003, ...</td>\n",
              "      <td>[1.8641, 2.3767, 1.149, 1.0132, 0.9876, 0.0, 0...</td>\n",
              "      <td>[0.49060000000000004, 4.6339, 1.95860000000000...</td>\n",
              "      <td>[1.2852000000000001, 2.5460000000000003, 0.234...</td>\n",
              "    </tr>\n",
              "  </tbody>\n",
              "</table>\n",
              "</div>"
            ],
            "text/plain": [
              "   index  ...                                            deg_50C\n",
              "0      0  ...  [0.6382, 3.4773, 0.9988, 1.3228, 0.78770000000...\n",
              "2      2  ...  [0.9501000000000001, 1.7974999999999999, 1.499...\n",
              "5      5  ...  [0.5882000000000001, 1.1786, 0.9704, 0.6035, 0...\n",
              "6      6  ...  [2.0964, 3.3688000000000002, 0.6399, 2.1053, 1...\n",
              "7      7  ...  [1.2852000000000001, 2.5460000000000003, 0.234...\n",
              "\n",
              "[5 rows x 19 columns]"
            ]
          },
          "metadata": {
            "tags": []
          },
          "execution_count": 10
        }
      ]
    },
    {
      "cell_type": "code",
      "metadata": {
        "trusted": true,
        "id": "9tws44EzClhV",
        "colab_type": "code",
        "colab": {}
      },
      "source": [
        "REG=0"
      ],
      "execution_count": 11,
      "outputs": []
    },
    {
      "cell_type": "code",
      "metadata": {
        "id": "kVDu1fABVLDR",
        "colab_type": "code",
        "colab": {}
      },
      "source": [
        "# tf.keras.initializers"
      ],
      "execution_count": 12,
      "outputs": []
    },
    {
      "cell_type": "code",
      "metadata": {
        "trusted": true,
        "id": "vnL9MJCiClhX",
        "colab_type": "code",
        "colab": {}
      },
      "source": [
        "def rmse(y_true, y_pred):\n",
        "        return K.sqrt(K.mean(K.square(y_pred - y_true), axis=-1)) \n",
        "\n",
        "\n",
        "def MCRMSE(y_true, y_pred):\n",
        "    colwise_mse = tf.reduce_mean(tf.square(y_true - y_pred), axis=1)\n",
        "    return tf.reduce_mean(tf.sqrt(colwise_mse), axis=1)\n",
        "\n",
        "\n",
        "def gru_layer(hidden_dim, dropout):\n",
        "    return tf.keras.layers.Bidirectional(\n",
        "                                tf.keras.layers.GRU(hidden_dim,\n",
        "                                dropout=dropout,\n",
        "                                return_sequences=True,\n",
        "                                kernel_initializer = 'orthogonal'))\n",
        "\n",
        "def lstm_layer(hidden_dim, dropout):\n",
        "    return tf.keras.layers.Bidirectional(\n",
        "                                tf.keras.layers.LSTM(hidden_dim,\n",
        "                                dropout=dropout,\n",
        "                                return_sequences=True,\n",
        "                                kernel_initializer = 'orthogonal'))\n",
        "    \n",
        "\n",
        "def build_model(gru=1,seq_len=107, pred_len=68, dropout=0.5, embed_dim=160, hidden_dim=384):\n",
        "    \n",
        "    inputs = tf.keras.layers.Input(shape=(seq_len, 3))\n",
        "\n",
        "    embed = tf.keras.layers.Embedding(input_dim=len(token2int), output_dim=embed_dim)(inputs)\n",
        "    reshaped = tf.reshape(embed, shape=(-1, embed.shape[1],  embed.shape[2] * embed.shape[3]))\n",
        "    \n",
        "    reshaped = tf.keras.layers.SpatialDropout1D(.2)(reshaped)\n",
        "    \n",
        "    \n",
        "    \n",
        "    if gru==0:\n",
        "        hidden = gru_layer(hidden_dim, dropout)(reshaped)\n",
        "        # hidden = tf.keras.layers.BatchNormalization()(hidden)\n",
        "        hidden = gru_layer(hidden_dim, dropout)(hidden)\n",
        "        # hidden = tf.keras.layers.BatchNormalization()(hidden)\n",
        "        hidden = gru_layer(hidden_dim, dropout)(hidden)\n",
        "        \n",
        "    elif gru==1:\n",
        "        hidden = gru_layer(hidden_dim, dropout)(reshaped)\n",
        "        # hidden = tf.keras.layers.BatchNormalization()(hidden)\n",
        "        hidden = gru_layer(hidden_dim, dropout)(hidden)\n",
        "        # hidden = tf.keras.layers.BatchNormalization()(hidden)\n",
        "        hidden = lstm_layer(hidden_dim, dropout)(hidden)\n",
        "        \n",
        "    elif gru==2:\n",
        "        hidden = gru_layer(hidden_dim, dropout)(reshaped)\n",
        "        # hidden = tf.keras.layers.BatchNormalization()(hidden)\n",
        "        hidden = lstm_layer(hidden_dim, dropout)(hidden)\n",
        "        # hidden = tf.keras.layers.BatchNormalization()(hidden)\n",
        "        hidden = gru_layer(hidden_dim, dropout)(hidden)\n",
        "        \n",
        "    elif gru==3:\n",
        "        hidden = gru_layer(hidden_dim, dropout)(reshaped)\n",
        "        # hidden = tf.keras.layers.BatchNormalization()(hidden)\n",
        "        hidden = lstm_layer(hidden_dim, dropout)(hidden)\n",
        "        # hidden = tf.keras.layers.BatchNormalization()(hidden)\n",
        "        hidden = lstm_layer(hidden_dim, dropout)(hidden)\n",
        "        \n",
        "    elif gru==4:\n",
        "        hidden = lstm_layer(hidden_dim, dropout)(reshaped)\n",
        "        # hidden = tf.keras.layers.BatchNormalization()(hidden)\n",
        "        hidden = gru_layer(hidden_dim, dropout)(hidden)\n",
        "        # hidden = tf.keras.layers.BatchNormalization()(hidden)\n",
        "        hidden = gru_layer(hidden_dim, dropout)(hidden)\n",
        "        \n",
        "    elif gru==5:\n",
        "        hidden = lstm_layer(hidden_dim, dropout)(reshaped)\n",
        "        # hidden = tf.keras.layers.BatchNormalization()(hidden)\n",
        "        hidden = gru_layer(hidden_dim, dropout)(hidden)\n",
        "        # hidden = tf.keras.layers.BatchNormalization()(hidden)\n",
        "        hidden = lstm_layer(hidden_dim, dropout)(hidden)\n",
        "    \n",
        "    elif gru==6:\n",
        "        hidden = lstm_layer(hidden_dim, dropout)(reshaped)\n",
        "        # hidden = tf.keras.layers.BatchNormalization()(hidden)\n",
        "        hidden = lstm_layer(hidden_dim, dropout)(hidden)\n",
        "        # hidden = tf.keras.layers.BatchNormalization()(hidden)\n",
        "        hidden = gru_layer(hidden_dim, dropout)(hidden)\n",
        "    \n",
        "    elif gru==7:\n",
        "        hidden = lstm_layer(hidden_dim, dropout)(reshaped)\n",
        "        # hidden = tf.keras.layers.BatchNormalization()(hidden)\n",
        "        hidden = lstm_layer(hidden_dim, dropout)(hidden)\n",
        "        # hidden = tf.keras.layers.BatchNormalization()(hidden)\n",
        "        hidden = lstm_layer(hidden_dim, dropout)(hidden)\n",
        "        \n",
        "    \n",
        "    #only making predictions on the first part of each sequence\n",
        "    truncated = hidden[:, :pred_len]\n",
        "    \n",
        "    out = tf.keras.layers.Dense(5, activation='linear')(truncated)\n",
        "\n",
        "    model = tf.keras.Model(inputs=inputs, outputs=out)\n",
        "\n",
        "    #some optimizers\n",
        "    opt = tf.optimizers.Adam()\n",
        "    #     opt = tfa.optimizers.RectifiedAdam()\n",
        "    #     opt = tfa.optimizers.Lookahead(adam, sync_period=6)\n",
        "    #     opt = tfa.optimizers.Lookahead(radam, sync_period=6)\n",
        "    \n",
        "    #model.compile(optimizer=adam, loss='mse')\n",
        "    model.compile(optimizer=opt, loss=MCRMSE, loss_weights=[1, 1, 0, 1, 0])\n",
        "    \n",
        "    return model"
      ],
      "execution_count": 13,
      "outputs": []
    },
    {
      "cell_type": "code",
      "metadata": {
        "trusted": true,
        "id": "6RfhyM5PClhZ",
        "colab_type": "code",
        "colab": {}
      },
      "source": [
        "es = EarlyStopping(monitor='val_loss', min_delta=0, patience=20, verbose=0, mode='auto')\n",
        "lr_c = ReduceLROnPlateau(verbose=0)"
      ],
      "execution_count": 14,
      "outputs": []
    },
    {
      "cell_type": "code",
      "metadata": {
        "id": "IiLrzjSEKVyv",
        "colab_type": "code",
        "colab": {}
      },
      "source": [
        "def model_checkpoint(path):\n",
        "    return tf.keras.callbacks.ModelCheckpoint(path, save_best_only=True, verbose=0)"
      ],
      "execution_count": null,
      "outputs": []
    },
    {
      "cell_type": "code",
      "metadata": {
        "trusted": true,
        "id": "o8XOxb-ZClhb",
        "colab_type": "code",
        "colab": {}
      },
      "source": [
        "kf = KFold(n_splits=FOLDS, shuffle=True,random_state=SEED)\n",
        "# kf = RepeatedStratifiedKFold(FOLDS, n_repeats = 1, random_state=SEED)"
      ],
      "execution_count": 15,
      "outputs": []
    },
    {
      "cell_type": "markdown",
      "metadata": {
        "id": "KlhkJyJKClha",
        "colab_type": "text"
      },
      "source": [
        "# Training "
      ]
    },
    {
      "cell_type": "code",
      "metadata": {
        "trusted": true,
        "id": "IzsNhLTkClhd",
        "colab_type": "code",
        "colab": {
          "base_uri": "https://localhost:8080/",
          "height": 1000
        },
        "outputId": "94f820a0-f3c5-4aa1-df79-0e26dcef6b82"
      },
      "source": [
        "train_inputs_ = train_inputs\n",
        "train_labels_ = train_labels\n",
        "print(train_inputs_.shape,train_labels_.shape)\n",
        "\n",
        "submissions_list = []\n",
        "\n",
        "oof_gru = np.zeros((train_labels.shape))\n",
        "oof_lstm = np.zeros((train_labels.shape))\n",
        "oof_hyb1 = np.zeros((train_labels.shape))\n",
        "oof_hyb2 = np.zeros((train_labels.shape))\n",
        "oof_hyb3 = np.zeros((train_labels.shape))\n",
        "oof_hyb4 = np.zeros((train_labels.shape))\n",
        "oof_hyb5 = np.zeros((train_labels.shape))\n",
        "oof_hyb6 = np.zeros((train_labels.shape))\n",
        "\n",
        "for fold, (train_index, val_index) in enumerate(kf.split(train_inputs_,train_labels_)):\n",
        "\n",
        "    print('-'*30)\n",
        "    print(f\"fold {fold} # train:{len(train_index)} # val:{len(val_index)}\")\n",
        "    print('-'*30)\n",
        "\n",
        "    train_inputs = train_inputs_[train_index]\n",
        "    train_labels = train_labels_[train_index]\n",
        "    val_inputs   = train_inputs_[val_index]\n",
        "    val_labels   = train_labels_[val_index]\n",
        "    \n",
        "    tf.keras.backend.clear_session()\n",
        "    # -------------------------------------------------------------------------\n",
        "\n",
        "    gru = build_model(gru=0)\n",
        "    save_pth = 'model_gru.h5'\n",
        "    \n",
        "    history_gru = gru.fit(\n",
        "        train_inputs, train_labels, \n",
        "        validation_data=(val_inputs,val_labels),\n",
        "        batch_size=64,\n",
        "        epochs=epoch,\n",
        "        callbacks=[lr_c, es, model_checkpoint(save_pth)],\n",
        "        verbose=VERBOSE)\n",
        "    \n",
        "    \n",
        "    gru.load_weights(save_pth)\n",
        "    val_pred = gru.predict(val_inputs)\n",
        "    oof_gru[val_index] = val_pred\n",
        "    print(val_pred.shape)\n",
        "\n",
        "    print()\n",
        "    print(f\"MODEL 0: Train loss={min(history_gru.history['loss'])} / Valid loss={min(history_gru.history['val_loss'])}\")\n",
        "    # -------------------------------------------------------------------------\n",
        "\n",
        "    lstm = build_model(gru=7)\n",
        "    save_pth = 'model_lstm.h5'\n",
        "\n",
        "    history_lstm = lstm.fit(\n",
        "        train_inputs, train_labels, \n",
        "        validation_data=(val_inputs,val_labels),\n",
        "        batch_size=64,\n",
        "        epochs=epoch,\n",
        "        callbacks=[lr_c,es, model_checkpoint(save_pth)],\n",
        "        verbose=VERBOSE)\n",
        "\n",
        "    lstm.load_weights(save_pth)\n",
        "    val_pred = lstm.predict(val_inputs)\n",
        "    oof_lstm[val_index] = val_pred\n",
        "    print(val_pred.shape)\n",
        "\n",
        "\n",
        "    print()\n",
        "    print(f\"MODEL 1: Train loss={min(history_lstm.history['loss'])} / Valid loss={min(history_lstm.history['val_loss'])}\")\n",
        "    # -------------------------------------------------------------------------\n",
        "\n",
        "    hyb1 = build_model(gru=1)\n",
        "    save_pth = 'model_hyb1.h5'\n",
        "\n",
        "    history_hyb1 = hyb1.fit(\n",
        "        train_inputs, train_labels, \n",
        "        validation_data=(val_inputs,val_labels),\n",
        "        batch_size=64,\n",
        "        epochs=epoch,\n",
        "        callbacks=[lr_c, es, model_checkpoint(save_pth)],\n",
        "        verbose=VERBOSE)\n",
        "\n",
        "    hyb1.load_weights(save_pth)\n",
        "    val_pred = hyb1.predict(val_inputs)\n",
        "    oof_hyb1[val_index] = val_pred\n",
        "    print(val_pred.shape)\n",
        "    \n",
        "    print()\n",
        "    print(f\"MODEL 2: Train loss={min(history_hyb1.history['loss'])} / Valid loss={min(history_hyb1.history['val_loss'])}\")\n",
        "    # -------------------------------------------------------------------------\n",
        "\n",
        "    hyb2 = build_model(gru=2)\n",
        "    save_pth = 'model_hyb2.h5'\n",
        "\n",
        "    history_hyb2 = hyb2.fit(\n",
        "        train_inputs, train_labels, \n",
        "        validation_data=(val_inputs,val_labels),\n",
        "        batch_size=64,\n",
        "        epochs=epoch,\n",
        "        callbacks=[lr_c, es, model_checkpoint(save_pth)],\n",
        "        verbose = VERBOSE)\n",
        "    \n",
        "    hyb2.load_weights(save_pth)\n",
        "    val_pred = hyb2.predict(val_inputs)\n",
        "    oof_hyb2[val_index] = val_pred\n",
        "    print(val_pred.shape)\n",
        "    \n",
        "    print()\n",
        "    print(f\"MODEL 3: Train loss={min(history_hyb2.history['loss'])} / Valid loss={min(history_hyb2.history['val_loss'])}\")\n",
        "    # -------------------------------------------------------------------------\n",
        "\n",
        "    hyb3 = build_model(gru=3)\n",
        "    save_pth = 'model_hyb3.h5'\n",
        "\n",
        "    history_hyb3 = hyb3.fit(\n",
        "        train_inputs, train_labels, \n",
        "        validation_data=(val_inputs,val_labels),\n",
        "        batch_size=64,\n",
        "        epochs=epoch,\n",
        "        callbacks=[lr_c,es, model_checkpoint(save_pth)],\n",
        "        verbose=VERBOSE)\n",
        "    \n",
        "    hyb3.load_weights(save_pth)\n",
        "    val_pred = hyb3.predict(val_inputs)\n",
        "    oof_hyb3[val_index] = val_pred\n",
        "    print(val_pred.shape)\n",
        "    \n",
        "    print()\n",
        "    print(f\"MODEL 4: Train loss={min(history_hyb3.history['loss'])} / Validation loss={min(history_hyb3.history['val_loss'])}\")\n",
        "    # -------------------------------------------------------------------------\n",
        "\n",
        "    hyb4 = build_model(gru=4)\n",
        "    save_pth = 'model_hyb4.h5'\n",
        "\n",
        "    history_hyb4 = hyb4.fit(\n",
        "        train_inputs, train_labels, \n",
        "        validation_data=(val_inputs,val_labels),\n",
        "        batch_size=64,\n",
        "        epochs=epoch,\n",
        "        callbacks=[lr_c, es, model_checkpoint(save_pth)],\n",
        "        verbose=VERBOSE)\n",
        "    \n",
        "    hyb4.load_weights(save_pth)\n",
        "    val_pred = hyb4.predict(val_inputs)\n",
        "    oof_hyb4[val_index] = val_pred\n",
        "    print(val_pred.shape)\n",
        "\n",
        "    print()\n",
        "    print(f\"MODEL 5: Train loss={min(history_hyb4.history['loss'])}/ Valid loss={min(history_hyb4.history['val_loss'])}\")\n",
        "    # -------------------------------------------------------------------------\n",
        "\n",
        "    hyb5 = build_model(gru=5)\n",
        "    save_pth = 'model_hyb5.h5'\n",
        "\n",
        "\n",
        "    history_hyb5 = hyb5.fit(\n",
        "        train_inputs, train_labels, \n",
        "        validation_data=(val_inputs,val_labels),\n",
        "        batch_size=64,\n",
        "        epochs=epoch,\n",
        "        callbacks=[lr_c,es, model_checkpoint(save_pth)],\n",
        "        verbose = VERBOSE)\n",
        "        \n",
        "    hyb5.load_weights(save_pth)\n",
        "    val_pred = hyb5.predict(val_inputs)\n",
        "    oof_hyb5[val_index] = val_pred\n",
        "    print(val_pred.shape)\n",
        "\n",
        "    print()\n",
        "    print(f\"MODEL 6: Train loss={min(history_hyb5.history['loss'])} / valid loss={min(history_hyb5.history['val_loss'])}\")\n",
        "    # -------------------------------------------------------------------------\n",
        "\n",
        "    hyb6 = build_model(gru=6)\n",
        "    save_pth = 'model_hyb6.h5'\n",
        "\n",
        "    history_hyb6 = hyb6.fit(\n",
        "        train_inputs, train_labels, \n",
        "        validation_data=(val_inputs,val_labels),\n",
        "        batch_size=64,\n",
        "        epochs=epoch,\n",
        "        callbacks=[lr_c,es, model_checkpoint(save_pth)],\n",
        "        verbose=VERBOSE)\n",
        "    \n",
        "    hyb6.load_weights(save_pth)\n",
        "    val_pred = hyb6.predict(val_inputs)\n",
        "    oof_hyb6[val_index] = val_pred\n",
        "    print(val_pred.shape)\n",
        "\n",
        "\n",
        "    print(f\"MODEL 7: Train loss={min(history_hyb6.history['loss'])} / valid loss={min(history_hyb6.history['val_loss'])}\")\n",
        "    # =========================================================================\n",
        "\n",
        "    public_df = test.query(\"seq_length == 107\").copy()\n",
        "    private_df = test.query(\"seq_length == 130\").copy()\n",
        "\n",
        "    public_inputs = preprocess_inputs(public_df)\n",
        "    private_inputs = preprocess_inputs(private_df)\n",
        "\n",
        "\n",
        "    # build all models\n",
        "    print('> Build all models')\n",
        "    gru_short = build_model(gru=0, seq_len=107, pred_len=107)\n",
        "    gru_long = build_model(gru=0, seq_len=130, pred_len=130)\n",
        "    lstm_short = build_model(gru=7, seq_len=107, pred_len=107)\n",
        "    lstm_long = build_model(gru=7, seq_len=130, pred_len=130)\n",
        "    hyb1_short = build_model(gru=1, seq_len=107, pred_len=107)\n",
        "    hyb1_long = build_model(gru=1, seq_len=130, pred_len=130)\n",
        "    hyb2_short = build_model(gru=2, seq_len=107, pred_len=107)\n",
        "    hyb2_long = build_model(gru=2, seq_len=130, pred_len=130)\n",
        "    hyb3_short = build_model(gru=3, seq_len=107, pred_len=107)\n",
        "    hyb3_long = build_model(gru=3, seq_len=130, pred_len=130)\n",
        "    hyb4_short = build_model(gru=4, seq_len=107, pred_len=107)\n",
        "    hyb4_long = build_model(gru=4, seq_len=130, pred_len=130)\n",
        "    hyb5_short = build_model(gru=5, seq_len=107, pred_len=107)\n",
        "    hyb5_long = build_model(gru=5, seq_len=130, pred_len=130)\n",
        "    hyb6_short = build_model(gru=6, seq_len=107, pred_len=107)\n",
        "    hyb6_long = build_model(gru=6, seq_len=130, pred_len=130)\n",
        "\n",
        "\n",
        "    # load pre-trained model weights\n",
        "    gru_short.load_weights('model_gru.h5')\n",
        "    gru_long.load_weights('model_gru.h5')\n",
        "    lstm_short.load_weights('model_lstm.h5')\n",
        "    lstm_long.load_weights('model_lstm.h5')\n",
        "    hyb1_short.load_weights('model_hyb1.h5')\n",
        "    hyb1_long.load_weights('model_hyb1.h5')\n",
        "    hyb2_short.load_weights('model_hyb2.h5')\n",
        "    hyb2_long.load_weights('model_hyb2.h5')\n",
        "    hyb3_short.load_weights('model_hyb3.h5')\n",
        "    hyb3_long.load_weights('model_hyb3.h5')\n",
        "    hyb4_short.load_weights('model_hyb4.h5')\n",
        "    hyb4_long.load_weights('model_hyb4.h5')\n",
        "    hyb5_short.load_weights('model_hyb5.h5')\n",
        "    hyb5_long.load_weights('model_hyb5.h5')\n",
        "    hyb6_short.load_weights('model_hyb6.h5')\n",
        "    hyb6_long.load_weights('model_hyb6.h5')\n",
        "\n",
        "\n",
        "    # predict Test set\n",
        "    print('> Predict Test set')\n",
        "    gru_public_preds = gru_short.predict(public_inputs)\n",
        "    gru_private_preds = gru_long.predict(private_inputs)\n",
        "    lstm_public_preds = lstm_short.predict(public_inputs)\n",
        "    lstm_private_preds = lstm_long.predict(private_inputs)\n",
        "    hyb1_public_preds = hyb1_short.predict(public_inputs)\n",
        "    hyb1_private_preds = hyb1_long.predict(private_inputs)\n",
        "    hyb2_public_preds = hyb2_short.predict(public_inputs)\n",
        "    hyb2_private_preds = hyb2_long.predict(private_inputs)\n",
        "    hyb3_public_preds = hyb3_short.predict(public_inputs)\n",
        "    hyb3_private_preds = hyb3_long.predict(private_inputs)\n",
        "    hyb4_public_preds = hyb4_short.predict(public_inputs)\n",
        "    hyb4_private_preds = hyb4_long.predict(private_inputs)\n",
        "    hyb5_public_preds = hyb5_short.predict(public_inputs)\n",
        "    hyb5_private_preds = hyb5_long.predict(private_inputs)\n",
        "    hyb6_public_preds = hyb6_short.predict(public_inputs)\n",
        "    hyb6_private_preds = hyb6_long.predict(private_inputs)\n",
        "    \n",
        "    \n",
        "    # Post-process/flatten perdictions \n",
        "    preds_gru_df  = post_process(gru_public_preds, gru_private_preds)\n",
        "    preds_lstm_df = post_process(lstm_public_preds, lstm_private_preds)\n",
        "    preds_hyb1_df = post_process(hyb1_public_preds, hyb1_private_preds)\n",
        "    preds_hyb2_df = post_process(hyb2_public_preds, hyb2_private_preds)\n",
        "    preds_hyb3_df = post_process(hyb3_public_preds, hyb3_private_preds)\n",
        "    preds_hyb4_df = post_process(hyb4_public_preds, hyb4_private_preds)\n",
        "    preds_hyb5_df = post_process(hyb5_public_preds, hyb5_private_preds)\n",
        "    preds_hyb6_df = post_process(hyb6_public_preds, hyb6_private_preds)\n",
        "   \n",
        "\n",
        "    print('> Blend Predictions')\n",
        "    blend_preds_df = pd.DataFrame()\n",
        "    blend_preds_df['id_seqpos']   = preds_gru_df['id_seqpos']\n",
        "    blend_preds_df['reactivity']  = 0.2*preds_gru_df['reactivity']  + 0.2*preds_lstm_df['reactivity']  + 0.2*preds_hyb1_df['reactivity']  + 0.2*preds_hyb2_df['reactivity']  + 0.2*preds_hyb3_df['reactivity']  + 0.2*preds_hyb4_df['reactivity']  + 0.2*preds_hyb5_df['reactivity']  + 0.2*preds_hyb6_df['reactivity']\n",
        "    blend_preds_df['deg_Mg_pH10'] = 0.2*preds_gru_df['deg_Mg_pH10'] + 0.2*preds_lstm_df['deg_Mg_pH10'] + 0.2*preds_hyb1_df['deg_Mg_pH10'] + 0.2*preds_hyb2_df['deg_Mg_pH10'] + 0.2*preds_hyb3_df['deg_Mg_pH10'] + 0.2*preds_hyb4_df['deg_Mg_pH10'] + 0.2*preds_hyb5_df['deg_Mg_pH10'] + 0.2*preds_hyb6_df['deg_Mg_pH10']\n",
        "    blend_preds_df['deg_pH10']    = 0.2*preds_gru_df['deg_pH10']    + 0.2*preds_lstm_df['deg_pH10']    + 0.2*preds_hyb1_df['deg_pH10']    + 0.2*preds_hyb2_df['deg_pH10']    + 0.2*preds_hyb3_df['deg_pH10']    + 0.2*preds_hyb4_df['deg_pH10']    + 0.2*preds_hyb5_df['deg_pH10']    + 0.2*preds_hyb6_df['deg_pH10']\n",
        "    blend_preds_df['deg_Mg_50C']  = 0.2*preds_gru_df['deg_Mg_50C']  + 0.2*preds_lstm_df['deg_Mg_50C']  + 0.2*preds_hyb1_df['deg_Mg_50C']  + 0.2*preds_hyb2_df['deg_Mg_50C']  + 0.2*preds_hyb3_df['deg_Mg_50C']  + 0.2*preds_hyb4_df['deg_Mg_50C']  + 0.2*preds_hyb5_df['deg_Mg_50C']  + 0.2*preds_hyb6_df['deg_Mg_50C']\n",
        "    blend_preds_df['deg_50C']     = 0.2*preds_gru_df['deg_50C']     + 0.2*preds_lstm_df['deg_50C']     + 0.2*preds_hyb1_df['deg_50C']     + 0.2*preds_hyb2_df['deg_Mg_50C']  + 0.2*preds_hyb3_df['deg_Mg_50C']  + 0.2*preds_hyb4_df['deg_50C']     + 0.2*preds_hyb5_df['deg_Mg_50C']  + 0.2*preds_hyb6_df['deg_Mg_50C']\n",
        "\n",
        "    blend_preds_df['reactivity']  /= 1.6\n",
        "    blend_preds_df['deg_Mg_pH10'] /= 1.6\n",
        "    blend_preds_df['deg_pH10']    /= 1.6\n",
        "    blend_preds_df['deg_Mg_50C']  /= 1.6\n",
        "    blend_preds_df['deg_50C']     /= 1.6\n",
        "\n",
        "    sample_sub = pd.read_csv(PATH+'sample_submission.csv.zip')\n",
        "    submission = sample_sub[['id_seqpos']].merge(blend_preds_df, on=['id_seqpos'])\n",
        "\n",
        "    submission.head()\n",
        "\n",
        "    # Saving the final output file\n",
        "    submission.to_csv(f\"submission_{fold}.csv\", index=False)\n",
        "    submissions_list.append(submission)\n",
        "    "
      ],
      "execution_count": 16,
      "outputs": [
        {
          "output_type": "stream",
          "text": [
            "(2096, 107, 3) (2096, 68, 5)\n",
            "------------------------------\n",
            "fold 0 # train:1746 # val:350\n",
            "------------------------------\n",
            "Epoch 00138: early stopping\n",
            "(350, 68, 5)\n",
            "\n",
            "MODEL 0: Train loss=0.14080467820167542 / Valid loss=0.2185877114534378\n",
            "Epoch 00101: early stopping\n",
            "(350, 68, 5)\n",
            "\n",
            "MODEL 1: Train loss=0.13197241723537445 / Valid loss=0.22287632524967194\n",
            "Epoch 00095: early stopping\n",
            "(350, 68, 5)\n",
            "\n",
            "MODEL 2: Train loss=0.1338491290807724 / Valid loss=0.22006860375404358\n",
            "Epoch 00095: early stopping\n",
            "(350, 68, 5)\n",
            "\n",
            "MODEL 3: Train loss=0.14870204031467438 / Valid loss=0.21920356154441833\n",
            "Epoch 00102: early stopping\n",
            "(350, 68, 5)\n",
            "\n",
            "MODEL 4: Train loss=0.1306459754705429 / Validation loss=0.22109095752239227\n",
            "Epoch 00108: early stopping\n",
            "(350, 68, 5)\n",
            "\n",
            "MODEL 5: Train loss=0.14277403056621552/ Valid loss=0.2180066853761673\n",
            "Epoch 00100: early stopping\n",
            "(350, 68, 5)\n",
            "\n",
            "MODEL 6: Train loss=0.14194157719612122 / valid loss=0.21878455579280853\n",
            "Epoch 00095: early stopping\n",
            "(350, 68, 5)\n",
            "MODEL 7: Train loss=0.1446082442998886 / valid loss=0.2187754362821579\n",
            "> Build all models\n",
            "> Predict Test set\n",
            "> Blend Predictions\n",
            "------------------------------\n",
            "fold 1 # train:1746 # val:350\n",
            "------------------------------\n",
            "Epoch 00081: early stopping\n",
            "(350, 68, 5)\n",
            "\n",
            "MODEL 0: Train loss=0.1616106629371643 / Valid loss=0.2122431993484497\n",
            "Epoch 00090: early stopping\n",
            "(350, 68, 5)\n",
            "\n",
            "MODEL 1: Train loss=0.1389036774635315 / Valid loss=0.21784931421279907\n",
            "Epoch 00095: early stopping\n",
            "(350, 68, 5)\n",
            "\n",
            "MODEL 2: Train loss=0.13771741092205048 / Valid loss=0.21405859291553497\n",
            "Epoch 00111: early stopping\n",
            "(350, 68, 5)\n",
            "\n",
            "MODEL 3: Train loss=0.13521169126033783 / Valid loss=0.212559312582016\n",
            "Epoch 00104: early stopping\n",
            "(350, 68, 5)\n",
            "\n",
            "MODEL 4: Train loss=0.12942837178707123 / Validation loss=0.21350082755088806\n",
            "Epoch 00103: early stopping\n",
            "(350, 68, 5)\n",
            "\n",
            "MODEL 5: Train loss=0.14545336365699768/ Valid loss=0.2118162363767624\n",
            "Epoch 00092: early stopping\n",
            "(350, 68, 5)\n",
            "\n",
            "MODEL 6: Train loss=0.13934142887592316 / valid loss=0.21250775456428528\n",
            "Epoch 00101: early stopping\n",
            "(350, 68, 5)\n",
            "MODEL 7: Train loss=0.156625896692276 / valid loss=0.21480858325958252\n",
            "> Build all models\n",
            "> Predict Test set\n",
            "> Blend Predictions\n",
            "------------------------------\n",
            "fold 2 # train:1747 # val:349\n",
            "------------------------------\n",
            "Epoch 00096: early stopping\n",
            "(349, 68, 5)\n",
            "\n",
            "MODEL 0: Train loss=0.14571064710617065 / Valid loss=0.2111922800540924\n",
            "Epoch 00100: early stopping\n",
            "(349, 68, 5)\n",
            "\n",
            "MODEL 1: Train loss=0.1371205598115921 / Valid loss=0.2172517478466034\n",
            "Epoch 00105: early stopping\n",
            "(349, 68, 5)\n",
            "\n",
            "MODEL 2: Train loss=0.12547722458839417 / Valid loss=0.2140478938817978\n",
            "Epoch 00103: early stopping\n",
            "(349, 68, 5)\n",
            "\n",
            "MODEL 3: Train loss=0.13536837697029114 / Valid loss=0.21287602186203003\n",
            "Epoch 00100: early stopping\n",
            "(349, 68, 5)\n",
            "\n",
            "MODEL 4: Train loss=0.1298702359199524 / Validation loss=0.2137320190668106\n",
            "Epoch 00112: early stopping\n",
            "(349, 68, 5)\n",
            "\n",
            "MODEL 5: Train loss=0.13780823349952698/ Valid loss=0.21188625693321228\n",
            "Epoch 00120: early stopping\n",
            "(349, 68, 5)\n",
            "\n",
            "MODEL 6: Train loss=0.1203271821141243 / valid loss=0.2123972326517105\n",
            "Epoch 00112: early stopping\n",
            "(349, 68, 5)\n",
            "MODEL 7: Train loss=0.135017991065979 / valid loss=0.2142561376094818\n",
            "> Build all models\n",
            "> Predict Test set\n",
            "> Blend Predictions\n",
            "------------------------------\n",
            "fold 3 # train:1747 # val:349\n",
            "------------------------------\n",
            "Epoch 00104: early stopping\n",
            "(349, 68, 5)\n",
            "\n",
            "MODEL 0: Train loss=0.14205190539360046 / Valid loss=0.2100823074579239\n",
            "Epoch 00104: early stopping\n",
            "(349, 68, 5)\n",
            "\n",
            "MODEL 1: Train loss=0.12961457669734955 / Valid loss=0.21280145645141602\n",
            "Epoch 00100: early stopping\n",
            "(349, 68, 5)\n",
            "\n",
            "MODEL 2: Train loss=0.13142842054367065 / Valid loss=0.21229501068592072\n",
            "Epoch 00096: early stopping\n",
            "(349, 68, 5)\n",
            "\n",
            "MODEL 3: Train loss=0.15082396566867828 / Valid loss=0.21039006114006042\n",
            "Epoch 00080: early stopping\n",
            "(349, 68, 5)\n",
            "\n",
            "MODEL 4: Train loss=0.15569186210632324 / Validation loss=0.21165798604488373\n",
            "Epoch 00102: early stopping\n",
            "(349, 68, 5)\n",
            "\n",
            "MODEL 5: Train loss=0.14613166451454163/ Valid loss=0.2111423760652542\n",
            "Epoch 00092: early stopping\n",
            "(349, 68, 5)\n",
            "\n",
            "MODEL 6: Train loss=0.13596919178962708 / valid loss=0.21054184436798096\n",
            "Epoch 00095: early stopping\n",
            "(349, 68, 5)\n",
            "MODEL 7: Train loss=0.14626123011112213 / valid loss=0.21215230226516724\n",
            "> Build all models\n",
            "> Predict Test set\n",
            "> Blend Predictions\n",
            "------------------------------\n",
            "fold 4 # train:1747 # val:349\n",
            "------------------------------\n",
            "Epoch 00119: early stopping\n",
            "(349, 68, 5)\n",
            "\n",
            "MODEL 0: Train loss=0.14783048629760742 / Valid loss=0.2148335874080658\n",
            "Epoch 00108: early stopping\n",
            "(349, 68, 5)\n",
            "\n",
            "MODEL 1: Train loss=0.12133394926786423 / Valid loss=0.21927660703659058\n",
            "Epoch 00101: early stopping\n",
            "(349, 68, 5)\n",
            "\n",
            "MODEL 2: Train loss=0.13019075989723206 / Valid loss=0.21655024588108063\n",
            "Epoch 00101: early stopping\n",
            "(349, 68, 5)\n",
            "\n",
            "MODEL 3: Train loss=0.1351177990436554 / Valid loss=0.21518398821353912\n",
            "Epoch 00096: early stopping\n",
            "(349, 68, 5)\n",
            "\n",
            "MODEL 4: Train loss=0.13940215110778809 / Validation loss=0.21773946285247803\n",
            "Epoch 00106: early stopping\n",
            "(349, 68, 5)\n",
            "\n",
            "MODEL 5: Train loss=0.1438300907611847/ Valid loss=0.21563823521137238\n",
            "Epoch 00089: early stopping\n",
            "(349, 68, 5)\n",
            "\n",
            "MODEL 6: Train loss=0.14856234192848206 / valid loss=0.21718326210975647\n",
            "Epoch 00102: early stopping\n",
            "(349, 68, 5)\n",
            "MODEL 7: Train loss=0.13243205845355988 / valid loss=0.21694837510585785\n",
            "> Build all models\n",
            "> Predict Test set\n",
            "> Blend Predictions\n",
            "------------------------------\n",
            "fold 5 # train:1747 # val:349\n",
            "------------------------------\n",
            "Epoch 00095: early stopping\n",
            "(349, 68, 5)\n",
            "\n",
            "MODEL 0: Train loss=0.14550691843032837 / Valid loss=0.21996226906776428\n",
            "Epoch 00097: early stopping\n",
            "(349, 68, 5)\n",
            "\n",
            "MODEL 1: Train loss=0.1373911052942276 / Valid loss=0.22405977547168732\n",
            "Epoch 00087: early stopping\n",
            "(349, 68, 5)\n",
            "\n",
            "MODEL 2: Train loss=0.14077164232730865 / Valid loss=0.22283782064914703\n",
            "Epoch 00123: early stopping\n",
            "(349, 68, 5)\n",
            "\n",
            "MODEL 3: Train loss=0.12975895404815674 / Valid loss=0.22242386639118195\n",
            "Epoch 00088: early stopping\n",
            "(349, 68, 5)\n",
            "\n",
            "MODEL 4: Train loss=0.13917292654514313 / Validation loss=0.2223663181066513\n",
            "Epoch 00105: early stopping\n",
            "(349, 68, 5)\n",
            "\n",
            "MODEL 5: Train loss=0.14795343577861786/ Valid loss=0.22055667638778687\n",
            "Epoch 00087: early stopping\n",
            "(349, 68, 5)\n",
            "\n",
            "MODEL 6: Train loss=0.1398036777973175 / valid loss=0.2215234339237213\n",
            "Epoch 00097: early stopping\n",
            "(349, 68, 5)\n",
            "MODEL 7: Train loss=0.14428646862506866 / valid loss=0.22081385552883148\n",
            "> Build all models\n",
            "> Predict Test set\n",
            "> Blend Predictions\n"
          ],
          "name": "stdout"
        }
      ]
    },
    {
      "cell_type": "code",
      "metadata": {
        "id": "7RwyW2rzKUP2",
        "colab_type": "code",
        "colab": {}
      },
      "source": [
        "np.save('oof_gru_6kf.npy', oof_gru)\n",
        "np.save('oof_lstm_6kf.npy', oof_lstm)\n",
        "np.save('oof_hyb1_6kf.npy', oof_hyb1)\n",
        "np.save('oof_hyb2_6kf.npy', oof_hyb2)\n",
        "np.save('oof_hyb3_6kf.npy', oof_hyb3)\n",
        "np.save('oof_hyb4_6kf.npy', oof_hyb4)\n",
        "np.save('oof_hyb5_6kf.npy', oof_hyb5)\n",
        "np.save('oof_hyb6_6kf.npy', oof_hyb6)"
      ],
      "execution_count": 22,
      "outputs": []
    },
    {
      "cell_type": "code",
      "metadata": {
        "id": "ogG4fBPLZC2a",
        "colab_type": "code",
        "colab": {
          "base_uri": "https://localhost:8080/",
          "height": 153
        },
        "outputId": "57beb131-4271-4eba-9760-636381a31975"
      },
      "source": [
        "print('GRU OOF score:', cwrmse_metric(train_labels_, oof_gru))\n",
        "print('LSTM OOF score:', cwrmse_metric(train_labels_, oof_lstm))\n",
        "print('HYB-1 OOF score:', cwrmse_metric(train_labels_, oof_hyb1))\n",
        "print('HYB-2 OOF score:', cwrmse_metric(train_labels_, oof_hyb2))\n",
        "print('HYB-3 OOF score:', cwrmse_metric(train_labels_, oof_hyb3))\n",
        "print('HYB-4 OOF score:', cwrmse_metric(train_labels_, oof_hyb4))\n",
        "print('HYB-5 OOF score:', cwrmse_metric(train_labels_, oof_hyb5))\n",
        "print('HYB-6 OOF score:', cwrmse_metric(train_labels_, oof_hyb6))"
      ],
      "execution_count": 71,
      "outputs": [
        {
          "output_type": "stream",
          "text": [
            "GRU OOF score: 0.38715209505195647\n",
            "LSTM OOF score: 0.40943005882457323\n",
            "HYB-1 OOF score: 0.4023845499066539\n",
            "HYB-2 OOF score: 0.4006643689944834\n",
            "HYB-3 OOF score: 0.40647814907638663\n",
            "HYB-4 OOF score: 0.3948226998216686\n",
            "HYB-5 OOF score: 0.40358108181841373\n",
            "HYB-6 OOF score: 0.401594729596266\n"
          ],
          "name": "stdout"
        }
      ]
    },
    {
      "cell_type": "code",
      "metadata": {
        "id": "bOk1URvxfKkI",
        "colab_type": "code",
        "colab": {
          "base_uri": "https://localhost:8080/",
          "height": 153
        },
        "outputId": "208f315a-7a14-4a98-82a0-69732a6fa489"
      },
      "source": [
        "print('GRU OOF score:', cwrmse_metric(train_labels_, oof_gru*0.975))\n",
        "print('LSTM OOF score:', cwrmse_metric(train_labels_, oof_lstm*0.975))\n",
        "print('HYB-1 OOF score:', cwrmse_metric(train_labels_, oof_hyb1*0.975))\n",
        "print('HYB-2 OOF score:', cwrmse_metric(train_labels_, oof_hyb2*0.975))\n",
        "print('HYB-3 OOF score:', cwrmse_metric(train_labels_, oof_hyb3*0.975))\n",
        "print('HYB-4 OOF score:', cwrmse_metric(train_labels_, oof_hyb4*0.975))\n",
        "print('HYB-5 OOF score:', cwrmse_metric(train_labels_, oof_hyb5*0.975))\n",
        "print('HYB-6 OOF score:', cwrmse_metric(train_labels_, oof_hyb6*0.975))"
      ],
      "execution_count": 93,
      "outputs": [
        {
          "output_type": "stream",
          "text": [
            "GRU OOF score: 0.3853373078993938\n",
            "LSTM OOF score: 0.40576260753272836\n",
            "HYB-1 OOF score: 0.39915883181320494\n",
            "HYB-2 OOF score: 0.3973385786504277\n",
            "HYB-3 OOF score: 0.4024628708216988\n",
            "HYB-4 OOF score: 0.39220572454037583\n",
            "HYB-5 OOF score: 0.39935047405358964\n",
            "HYB-6 OOF score: 0.39849611008101427\n"
          ],
          "name": "stdout"
        }
      ]
    },
    {
      "cell_type": "code",
      "metadata": {
        "id": "WHZ36uy_YHTL",
        "colab_type": "code",
        "colab": {
          "base_uri": "https://localhost:8080/",
          "height": 34
        },
        "outputId": "9f0f2ec7-00c3-44a7-bb15-6d5281df46c5"
      },
      "source": [
        "from google.colab import drive\n",
        "drive.mount('/content/drive')"
      ],
      "execution_count": 58,
      "outputs": [
        {
          "output_type": "stream",
          "text": [
            "Mounted at /content/drive\n"
          ],
          "name": "stdout"
        }
      ]
    },
    {
      "cell_type": "code",
      "metadata": {
        "trusted": true,
        "id": "6_a8Ia6RClhe",
        "colab_type": "code",
        "colab": {
          "base_uri": "https://localhost:8080/",
          "height": 221
        },
        "outputId": "f936f208-3d18-47c0-e9d4-70f9e598ffc0"
      },
      "source": [
        "files = []\n",
        "\n",
        "for i in range(FOLDS):\n",
        "    csv = pd.read_csv(f'./submission_{i}.csv')\n",
        "    files.append(csv)\n",
        "\n",
        "total = pd.concat(files, axis=1)\n",
        "total.head()\n",
        "col = list(submission.columns)[1:]\n",
        "print(col)\n",
        "\n",
        "submission1 = submission\n",
        "for c in col:\n",
        "    submission1[c] = total[c].mean(axis=1)\n",
        "submission1.to_csv('submission_final.csv', index=False)\n",
        "submission1.head()\n"
      ],
      "execution_count": 19,
      "outputs": [
        {
          "output_type": "stream",
          "text": [
            "['reactivity', 'deg_Mg_pH10', 'deg_pH10', 'deg_Mg_50C', 'deg_50C']\n"
          ],
          "name": "stdout"
        },
        {
          "output_type": "execute_result",
          "data": {
            "text/html": [
              "<div>\n",
              "<style scoped>\n",
              "    .dataframe tbody tr th:only-of-type {\n",
              "        vertical-align: middle;\n",
              "    }\n",
              "\n",
              "    .dataframe tbody tr th {\n",
              "        vertical-align: top;\n",
              "    }\n",
              "\n",
              "    .dataframe thead th {\n",
              "        text-align: right;\n",
              "    }\n",
              "</style>\n",
              "<table border=\"1\" class=\"dataframe\">\n",
              "  <thead>\n",
              "    <tr style=\"text-align: right;\">\n",
              "      <th></th>\n",
              "      <th>id_seqpos</th>\n",
              "      <th>reactivity</th>\n",
              "      <th>deg_Mg_pH10</th>\n",
              "      <th>deg_pH10</th>\n",
              "      <th>deg_Mg_50C</th>\n",
              "      <th>deg_50C</th>\n",
              "    </tr>\n",
              "  </thead>\n",
              "  <tbody>\n",
              "    <tr>\n",
              "      <th>0</th>\n",
              "      <td>id_00073f8be_0</td>\n",
              "      <td>0.764458</td>\n",
              "      <td>0.599759</td>\n",
              "      <td>1.988149</td>\n",
              "      <td>0.540229</td>\n",
              "      <td>0.678989</td>\n",
              "    </tr>\n",
              "    <tr>\n",
              "      <th>1</th>\n",
              "      <td>id_00073f8be_1</td>\n",
              "      <td>2.241800</td>\n",
              "      <td>3.117391</td>\n",
              "      <td>3.765055</td>\n",
              "      <td>3.153140</td>\n",
              "      <td>2.981395</td>\n",
              "    </tr>\n",
              "    <tr>\n",
              "      <th>2</th>\n",
              "      <td>id_00073f8be_2</td>\n",
              "      <td>1.548997</td>\n",
              "      <td>0.635365</td>\n",
              "      <td>0.606352</td>\n",
              "      <td>0.722454</td>\n",
              "      <td>0.714994</td>\n",
              "    </tr>\n",
              "    <tr>\n",
              "      <th>3</th>\n",
              "      <td>id_00073f8be_3</td>\n",
              "      <td>1.305761</td>\n",
              "      <td>1.153328</td>\n",
              "      <td>1.138116</td>\n",
              "      <td>1.649024</td>\n",
              "      <td>1.769328</td>\n",
              "    </tr>\n",
              "    <tr>\n",
              "      <th>4</th>\n",
              "      <td>id_00073f8be_4</td>\n",
              "      <td>0.811440</td>\n",
              "      <td>0.588739</td>\n",
              "      <td>0.460997</td>\n",
              "      <td>0.848880</td>\n",
              "      <td>0.882177</td>\n",
              "    </tr>\n",
              "  </tbody>\n",
              "</table>\n",
              "</div>"
            ],
            "text/plain": [
              "        id_seqpos  reactivity  deg_Mg_pH10  deg_pH10  deg_Mg_50C   deg_50C\n",
              "0  id_00073f8be_0    0.764458     0.599759  1.988149    0.540229  0.678989\n",
              "1  id_00073f8be_1    2.241800     3.117391  3.765055    3.153140  2.981395\n",
              "2  id_00073f8be_2    1.548997     0.635365  0.606352    0.722454  0.714994\n",
              "3  id_00073f8be_3    1.305761     1.153328  1.138116    1.649024  1.769328\n",
              "4  id_00073f8be_4    0.811440     0.588739  0.460997    0.848880  0.882177"
            ]
          },
          "metadata": {
            "tags": []
          },
          "execution_count": 19
        }
      ]
    },
    {
      "cell_type": "code",
      "metadata": {
        "trusted": true,
        "id": "6zEunH3dClhg",
        "colab_type": "code",
        "colab": {
          "base_uri": "https://localhost:8080/",
          "height": 204
        },
        "outputId": "5ce62da2-e9e6-4fe4-d305-4da2453da345"
      },
      "source": [
        "submission1.head()"
      ],
      "execution_count": 20,
      "outputs": [
        {
          "output_type": "execute_result",
          "data": {
            "text/html": [
              "<div>\n",
              "<style scoped>\n",
              "    .dataframe tbody tr th:only-of-type {\n",
              "        vertical-align: middle;\n",
              "    }\n",
              "\n",
              "    .dataframe tbody tr th {\n",
              "        vertical-align: top;\n",
              "    }\n",
              "\n",
              "    .dataframe thead th {\n",
              "        text-align: right;\n",
              "    }\n",
              "</style>\n",
              "<table border=\"1\" class=\"dataframe\">\n",
              "  <thead>\n",
              "    <tr style=\"text-align: right;\">\n",
              "      <th></th>\n",
              "      <th>id_seqpos</th>\n",
              "      <th>reactivity</th>\n",
              "      <th>deg_Mg_pH10</th>\n",
              "      <th>deg_pH10</th>\n",
              "      <th>deg_Mg_50C</th>\n",
              "      <th>deg_50C</th>\n",
              "    </tr>\n",
              "  </thead>\n",
              "  <tbody>\n",
              "    <tr>\n",
              "      <th>0</th>\n",
              "      <td>id_00073f8be_0</td>\n",
              "      <td>0.764458</td>\n",
              "      <td>0.599759</td>\n",
              "      <td>1.988149</td>\n",
              "      <td>0.540229</td>\n",
              "      <td>0.678989</td>\n",
              "    </tr>\n",
              "    <tr>\n",
              "      <th>1</th>\n",
              "      <td>id_00073f8be_1</td>\n",
              "      <td>2.241800</td>\n",
              "      <td>3.117391</td>\n",
              "      <td>3.765055</td>\n",
              "      <td>3.153140</td>\n",
              "      <td>2.981395</td>\n",
              "    </tr>\n",
              "    <tr>\n",
              "      <th>2</th>\n",
              "      <td>id_00073f8be_2</td>\n",
              "      <td>1.548997</td>\n",
              "      <td>0.635365</td>\n",
              "      <td>0.606352</td>\n",
              "      <td>0.722454</td>\n",
              "      <td>0.714994</td>\n",
              "    </tr>\n",
              "    <tr>\n",
              "      <th>3</th>\n",
              "      <td>id_00073f8be_3</td>\n",
              "      <td>1.305761</td>\n",
              "      <td>1.153328</td>\n",
              "      <td>1.138116</td>\n",
              "      <td>1.649024</td>\n",
              "      <td>1.769328</td>\n",
              "    </tr>\n",
              "    <tr>\n",
              "      <th>4</th>\n",
              "      <td>id_00073f8be_4</td>\n",
              "      <td>0.811440</td>\n",
              "      <td>0.588739</td>\n",
              "      <td>0.460997</td>\n",
              "      <td>0.848880</td>\n",
              "      <td>0.882177</td>\n",
              "    </tr>\n",
              "  </tbody>\n",
              "</table>\n",
              "</div>"
            ],
            "text/plain": [
              "        id_seqpos  reactivity  deg_Mg_pH10  deg_pH10  deg_Mg_50C   deg_50C\n",
              "0  id_00073f8be_0    0.764458     0.599759  1.988149    0.540229  0.678989\n",
              "1  id_00073f8be_1    2.241800     3.117391  3.765055    3.153140  2.981395\n",
              "2  id_00073f8be_2    1.548997     0.635365  0.606352    0.722454  0.714994\n",
              "3  id_00073f8be_3    1.305761     1.153328  1.138116    1.649024  1.769328\n",
              "4  id_00073f8be_4    0.811440     0.588739  0.460997    0.848880  0.882177"
            ]
          },
          "metadata": {
            "tags": []
          },
          "execution_count": 20
        }
      ]
    },
    {
      "cell_type": "code",
      "metadata": {
        "id": "NYJ32s6OcX-9",
        "colab_type": "code",
        "colab": {}
      },
      "source": [
        "submission2 = submission1.copy()\n",
        "submission2.reactivity = submission2.reactivity * 1.05\n",
        "submission2.deg_Mg_pH10 = submission2.deg_Mg_pH10 * 1.05\n",
        "submission2.deg_Mg_50C = submission2.deg_Mg_50C * 1.05\n",
        "\n",
        "submission2.to_csv('submission_final_105.csv', index=False)"
      ],
      "execution_count": 73,
      "outputs": []
    },
    {
      "cell_type": "code",
      "metadata": {
        "id": "I_l9C-D6dGQn",
        "colab_type": "code",
        "colab": {}
      },
      "source": [
        "\n"
      ],
      "execution_count": 78,
      "outputs": []
    },
    {
      "cell_type": "code",
      "metadata": {
        "id": "xPyH4eGEcX47",
        "colab_type": "code",
        "colab": {}
      },
      "source": [
        "submission3 = submission1.copy()\n",
        "submission3.reactivity = submission3.reactivity * 0.95\n",
        "submission3.deg_Mg_pH10 = submission3.deg_Mg_pH10 * 0.95\n",
        "submission3.deg_Mg_50C = submission3.deg_Mg_50C * 0.95\n",
        "\n",
        "submission3.to_csv('submission_final_095.csv', index=False)"
      ],
      "execution_count": 75,
      "outputs": []
    },
    {
      "cell_type": "code",
      "metadata": {
        "id": "wdL1udIxdLoB",
        "colab_type": "code",
        "colab": {}
      },
      "source": [
        "submission3.to_csv('submission_final_095.csv', index=False)"
      ],
      "execution_count": 79,
      "outputs": []
    },
    {
      "cell_type": "code",
      "metadata": {
        "id": "P1GbZ9ZfTAVD",
        "colab_type": "code",
        "colab": {
          "base_uri": "https://localhost:8080/",
          "height": 352
        },
        "outputId": "186cbfa2-cff0-4733-8ef8-2db528a80dea"
      },
      "source": [
        "fig, ax = plt.subplots(1, 3, figsize=(14, 5))\n",
        "sns.distplot(submission1.reactivity, ax=ax[0])\n",
        "sns.distplot(submission1.deg_Mg_pH10, ax=ax[1])\n",
        "sns.distplot(submission1.deg_Mg_50C, ax=ax[2])\n",
        "\n",
        "sns.distplot(submission3.reactivity, ax=ax[0])\n",
        "sns.distplot(submission3.deg_Mg_pH10, ax=ax[1])\n",
        "sns.distplot(submission3.deg_Mg_50C, ax=ax[2])\n"
      ],
      "execution_count": 77,
      "outputs": [
        {
          "output_type": "execute_result",
          "data": {
            "text/plain": [
              "<matplotlib.axes._subplots.AxesSubplot at 0x7fa39765a668>"
            ]
          },
          "metadata": {
            "tags": []
          },
          "execution_count": 77
        },
        {
          "output_type": "display_data",
          "data": {
            "image/png": "[encoded data removed]",
            "text/plain": [
              "<Figure size 1008x360 with 3 Axes>"
            ]
          },
          "metadata": {
            "tags": [],
            "needs_background": "light"
          }
        }
      ]
    },
    {
      "cell_type": "code",
      "metadata": {
        "id": "RC37pvmeTOHe",
        "colab_type": "code",
        "colab": {
          "base_uri": "https://localhost:8080/",
          "height": 34
        },
        "outputId": "f180495d-9f0b-44b5-d38d-1d942b2559e0"
      },
      "source": [
        "train_inputs.shape, train_labels.shape"
      ],
      "execution_count": 26,
      "outputs": [
        {
          "output_type": "execute_result",
          "data": {
            "text/plain": [
              "((1747, 107, 3), (1747, 68, 5))"
            ]
          },
          "metadata": {
            "tags": []
          },
          "execution_count": 26
        }
      ]
    },
    {
      "cell_type": "code",
      "metadata": {
        "id": "2f9EwsniTXpk",
        "colab_type": "code",
        "colab": {
          "base_uri": "https://localhost:8080/",
          "height": 34
        },
        "outputId": "29762d29-f8cc-4bb5-83f3-799a77233b37"
      },
      "source": [
        "submission1.shape"
      ],
      "execution_count": 25,
      "outputs": [
        {
          "output_type": "execute_result",
          "data": {
            "text/plain": [
              "(457953, 6)"
            ]
          },
          "metadata": {
            "tags": []
          },
          "execution_count": 25
        }
      ]
    },
    {
      "cell_type": "code",
      "metadata": {
        "id": "Nl3pWm44TjV5",
        "colab_type": "code",
        "colab": {
          "base_uri": "https://localhost:8080/",
          "height": 282
        },
        "outputId": "454743cd-a18d-43b5-a862-4f792895927e"
      },
      "source": [
        "plt.figure()\n",
        "plt.plot(train_labels[:,:,0].reshape(-1,1))\n",
        "plt.title('reactivity')"
      ],
      "execution_count": 32,
      "outputs": [
        {
          "output_type": "execute_result",
          "data": {
            "text/plain": [
              "[<matplotlib.lines.Line2D at 0x7fa3b0dd8278>]"
            ]
          },
          "metadata": {
            "tags": []
          },
          "execution_count": 32
        },
        {
          "output_type": "display_data",
          "data": {
            "image/png": "[encoded data removed]",
            "text/plain": [
              "<Figure size 432x288 with 1 Axes>"
            ]
          },
          "metadata": {
            "tags": [],
            "needs_background": "light"
          }
        }
      ]
    },
    {
      "cell_type": "code",
      "metadata": {
        "id": "_a5RMunxVAiT",
        "colab_type": "code",
        "colab": {
          "base_uri": "https://localhost:8080/",
          "height": 282
        },
        "outputId": "841da303-a1c1-4c2c-eb1b-6f86c7904ee4"
      },
      "source": [
        "train.reactivity.apply(lambda s: np.mean(s)).plot()"
      ],
      "execution_count": 42,
      "outputs": [
        {
          "output_type": "execute_result",
          "data": {
            "text/plain": [
              "<matplotlib.axes._subplots.AxesSubplot at 0x7fa3adb8e4e0>"
            ]
          },
          "metadata": {
            "tags": []
          },
          "execution_count": 42
        },
        {
          "output_type": "display_data",
          "data": {
            "image/png": "[encoded data removed]",
            "text/plain": [
              "<Figure size 432x288 with 1 Axes>"
            ]
          },
          "metadata": {
            "tags": [],
            "needs_background": "light"
          }
        }
      ]
    },
    {
      "cell_type": "code",
      "metadata": {
        "id": "LjFXNmguVg-L",
        "colab_type": "code",
        "colab": {
          "base_uri": "https://localhost:8080/",
          "height": 282
        },
        "outputId": "42a625db-3103-45a8-f02f-cc85072a1816"
      },
      "source": [
        "plt.plot(train.reactivity[0])\n",
        "plt.plot(train.deg_Mg_pH10[0])\n",
        "plt.plot(train.deg_Mg_50C[0])"
      ],
      "execution_count": 53,
      "outputs": [
        {
          "output_type": "execute_result",
          "data": {
            "text/plain": [
              "[<matplotlib.lines.Line2D at 0x7fa37c2b69b0>]"
            ]
          },
          "metadata": {
            "tags": []
          },
          "execution_count": 53
        },
        {
          "output_type": "display_data",
          "data": {
            "image/png": "[encoded data removed]",
            "text/plain": [
              "<Figure size 432x288 with 1 Axes>"
            ]
          },
          "metadata": {
            "tags": [],
            "needs_background": "light"
          }
        }
      ]
    },
    {
      "cell_type": "code",
      "metadata": {
        "id": "5LJXYHaeWdbz",
        "colab_type": "code",
        "colab": {
          "base_uri": "https://localhost:8080/",
          "height": 221
        },
        "outputId": "5a7c93e4-5bd8-48e9-b927-fc603f4cd410"
      },
      "source": [
        "train.reactivity"
      ],
      "execution_count": 55,
      "outputs": [
        {
          "output_type": "execute_result",
          "data": {
            "text/plain": [
              "0       [0.3297, 1.5693000000000001, 1.1227, 0.8686, 0...\n",
              "2       [0.44820000000000004, 1.4822, 1.1819, 0.743400...\n",
              "5       [0.7642, 1.6641, 1.0622, 0.5008, 0.4107, 0.133...\n",
              "6       [0.895, 2.3377, 2.2305, 2.003, 1.9006, 1.0373,...\n",
              "7       [1.1576, 1.5137, 1.3382, 1.5622, 1.2121, 0.295...\n",
              "                              ...                        \n",
              "2394    [0.3517, 0.5358, 0.4318, 0.016900000000000002,...\n",
              "2395    [0.6957, 1.251, 1.3235999999999999, 0.7521, 0....\n",
              "2396    [0.2891, 0.4496, 0.7165, 0.7128, 0.59310000000...\n",
              "2398    [0.6919000000000001, 1.4823, 1.3685, 1.2473, 0...\n",
              "2399    [1.0102, 1.7928000000000002, 1.9228, 0.9649000...\n",
              "Name: reactivity, Length: 2096, dtype: object"
            ]
          },
          "metadata": {
            "tags": []
          },
          "execution_count": 55
        }
      ]
    },
    {
      "cell_type": "code",
      "metadata": {
        "id": "pjKITeCeWXqP",
        "colab_type": "code",
        "colab": {
          "base_uri": "https://localhost:8080/",
          "height": 282
        },
        "outputId": "9cefe3ce-3e43-4645-e77b-42f230a6139c"
      },
      "source": [
        "plt.plot(train.reactivity.iloc[10])\n",
        "plt.plot(train.deg_Mg_pH10.iloc[10])\n",
        "plt.plot(train.deg_Mg_50C.iloc[10])"
      ],
      "execution_count": 57,
      "outputs": [
        {
          "output_type": "execute_result",
          "data": {
            "text/plain": [
              "[<matplotlib.lines.Line2D at 0x7fa2ed013ac8>]"
            ]
          },
          "metadata": {
            "tags": []
          },
          "execution_count": 57
        },
        {
          "output_type": "display_data",
          "data": {
            "image/png": "[encoded data removed]",
            "text/plain": [
              "<Figure size 432x288 with 1 Axes>"
            ]
          },
          "metadata": {
            "tags": [],
            "needs_background": "light"
          }
        }
      ]
    },
    {
      "cell_type": "code",
      "metadata": {
        "id": "IXIM-Gn2WXeu",
        "colab_type": "code",
        "colab": {
          "base_uri": "https://localhost:8080/",
          "height": 282
        },
        "outputId": "1ecb0b50-674d-4d3e-f180-cb4a11132179"
      },
      "source": [
        "plt.plot(np.log1p(train.reactivity.iloc[10]))"
      ],
      "execution_count": 97,
      "outputs": [
        {
          "output_type": "execute_result",
          "data": {
            "text/plain": [
              "[<matplotlib.lines.Line2D at 0x7fa3f319b6d8>]"
            ]
          },
          "metadata": {
            "tags": []
          },
          "execution_count": 97
        },
        {
          "output_type": "display_data",
          "data": {
            "image/png": "[encoded data removed]",
            "text/plain": [
              "<Figure size 432x288 with 1 Axes>"
            ]
          },
          "metadata": {
            "tags": [],
            "needs_background": "light"
          }
        }
      ]
    },
    {
      "cell_type": "code",
      "metadata": {
        "id": "UvYZxCBQTiKF",
        "colab_type": "code",
        "colab": {
          "base_uri": "https://localhost:8080/",
          "height": 1000
        },
        "outputId": "5755b6c4-d29c-4122-933f-70b76de3b50f"
      },
      "source": [
        "train.reactivity.apply(pd.Series).plot()"
      ],
      "execution_count": 37,
      "outputs": [
        {
          "output_type": "execute_result",
          "data": {
            "text/plain": [
              "<matplotlib.axes._subplots.AxesSubplot at 0x7fa399325080>"
            ]
          },
          "metadata": {
            "tags": []
          },
          "execution_count": 37
        },
        {
          "output_type": "display_data",
          "data": {
            "image/png": "[encoded data removed]",
            "text/plain": [
              "<Figure size 432x288 with 1 Axes>"
            ]
          },
          "metadata": {
            "tags": [],
            "needs_background": "light"
          }
        }
      ]
    },
    {
      "cell_type": "code",
      "metadata": {
        "id": "BC_gAgXpUWPR",
        "colab_type": "code",
        "colab": {
          "base_uri": "https://localhost:8080/",
          "height": 282
        },
        "outputId": "eb2f5f3a-0ad9-4445-9919-6217acc27260"
      },
      "source": [
        "sns.distplot(np.log1p(train_labels_[:,0]), label='log')\n",
        "\n",
        "sns.distplot(train_labels_[:,0],  label='true')\n",
        "plt.legend()"
      ],
      "execution_count": 107,
      "outputs": [
        {
          "output_type": "execute_result",
          "data": {
            "text/plain": [
              "<matplotlib.legend.Legend at 0x7fa2e9a97c18>"
            ]
          },
          "metadata": {
            "tags": []
          },
          "execution_count": 107
        },
        {
          "output_type": "display_data",
          "data": {
            "image/png": "[encoded data removed]",
            "text/plain": [
              "<Figure size 432x288 with 1 Axes>"
            ]
          },
          "metadata": {
            "tags": [],
            "needs_background": "light"
          }
        }
      ]
    },
    {
      "cell_type": "code",
      "metadata": {
        "id": "D7A_uDOCgsBs",
        "colab_type": "code",
        "colab": {
          "base_uri": "https://localhost:8080/",
          "height": 418
        },
        "outputId": "1a6c98a1-c418-4cc4-aa6d-902ac792d55b"
      },
      "source": [
        "plt.hist(np.log1p(train_labels_[:,1]))"
      ],
      "execution_count": 103,
      "outputs": [
        {
          "output_type": "execute_result",
          "data": {
            "text/plain": [
              "(array([[  0.,   0.,   0.,   7., 159., 779., 843., 282.,  25.,   1.],\n",
              "        [  0.,   0.,   0.,   2.,  66., 392., 775., 643., 206.,  12.],\n",
              "        [  0.,   0.,   0.,   1.,   1.,  52., 472., 987., 515.,  68.],\n",
              "        [  1.,   0.,   0.,   6.,  62., 450., 799., 594., 182.,   2.],\n",
              "        [  0.,   0.,   2.,   5.,  41., 457., 994., 543.,  51.,   2.]]),\n",
              " array([-1.16892746, -0.83141628, -0.49390511, -0.15639393,  0.18111725,\n",
              "         0.51862843,  0.85613961,  1.19365078,  1.53116196,  1.86867314,\n",
              "         2.20618432]),\n",
              " <a list of 5 Lists of Patches objects>)"
            ]
          },
          "metadata": {
            "tags": []
          },
          "execution_count": 103
        },
        {
          "output_type": "display_data",
          "data": {
            "image/png": "[encoded data removed]",
            "text/plain": [
              "<Figure size 432x288 with 1 Axes>"
            ]
          },
          "metadata": {
            "tags": [],
            "needs_background": "light"
          }
        }
      ]
    },
    {
      "cell_type": "code",
      "metadata": {
        "id": "zgswI5Yph3ye",
        "colab_type": "code",
        "colab": {}
      },
      "source": [
        ""
      ],
      "execution_count": null,
      "outputs": []
    },
    {
      "cell_type": "code",
      "metadata": {
        "id": "Ryvu-Pdnh3vs",
        "colab_type": "code",
        "colab": {
          "base_uri": "https://localhost:8080/",
          "height": 434
        },
        "outputId": "a91156c2-6cda-4cdc-b4d1-47560c06b7fd"
      },
      "source": [
        "idx = np.random.randint(2096)\n",
        "\n",
        "fig, ax = plt.subplots(1,3, figsize=(12, 6))\n",
        "ax[0].plot(train_labels_[idx, :, 0])\n",
        "ax[0].plot(oof_gru[idx, :, 0])\n",
        "ax[1].plot(train_labels_[idx, :, 1])\n",
        "ax[1].plot(oof_gru[idx, :, 1])\n",
        "ax[2].plot(train_labels_[idx, :, 3])\n",
        "ax[2].plot(oof_gru[idx, :, 3])\n",
        "fig.suptitle('True vs Predictions for each target')"
      ],
      "execution_count": 126,
      "outputs": [
        {
          "output_type": "execute_result",
          "data": {
            "text/plain": [
              "Text(0.5, 0.98, 'True vs Predictions for each target')"
            ]
          },
          "metadata": {
            "tags": []
          },
          "execution_count": 126
        },
        {
          "output_type": "display_data",
          "data": {
            "image/png": "[encoded data removed]",
            "text/plain": [
              "<Figure size 864x432 with 3 Axes>"
            ]
          },
          "metadata": {
            "tags": [],
            "needs_background": "light"
          }
        }
      ]
    },
    {
      "cell_type": "code",
      "metadata": {
        "id": "pV1uk35Ni1u8",
        "colab_type": "code",
        "colab": {}
      },
      "source": [
        ""
      ],
      "execution_count": null,
      "outputs": []
    }
  ]
}